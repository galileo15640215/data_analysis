{
  "nbformat": 4,
  "nbformat_minor": 0,
  "metadata": {
    "colab": {
      "name": " visualize_distribution.ipynb",
      "version": "0.3.2",
      "provenance": [],
      "include_colab_link": true
    },
    "kernelspec": {
      "name": "python3",
      "display_name": "Python 3"
    }
  },
  "cells": [
    {
      "cell_type": "markdown",
      "metadata": {
        "id": "view-in-github",
        "colab_type": "text"
      },
      "source": [
        "<a href=\"https://colab.research.google.com/github/galileo15640215/data_analysis/blob/master/visualize_distribution.ipynb\" target=\"_parent\"><img src=\"https://colab.research.google.com/assets/colab-badge.svg\" alt=\"Open In Colab\"/></a>"
      ]
    },
    {
      "metadata": {
        "id": "aRJJicRORsgF",
        "colab_type": "code",
        "colab": {}
      },
      "cell_type": "code",
      "source": [
        "from numpy.random import randn\n",
        "import seaborn as sns\n",
        "%matplotlib inline"
      ],
      "execution_count": 0,
      "outputs": []
    },
    {
      "metadata": {
        "id": "YQ6jv0EkSIn3",
        "colab_type": "code",
        "colab": {}
      },
      "cell_type": "code",
      "source": [
        "dataset = randn(100)"
      ],
      "execution_count": 0,
      "outputs": []
    },
    {
      "metadata": {
        "id": "HRjMyG6ySL6R",
        "colab_type": "code",
        "colab": {
          "base_uri": "https://localhost:8080/",
          "height": 352
        },
        "outputId": "9d42a243-5d05-4c57-de71-e98b3cad5000"
      },
      "cell_type": "code",
      "source": [
        "sns.distplot(dataset)"
      ],
      "execution_count": 3,
      "outputs": [
        {
          "output_type": "stream",
          "text": [
            "/usr/local/lib/python3.6/dist-packages/matplotlib/axes/_axes.py:6521: MatplotlibDeprecationWarning: \n",
            "The 'normed' kwarg was deprecated in Matplotlib 2.1 and will be removed in 3.1. Use 'density' instead.\n",
            "  alternative=\"'density'\", removal=\"3.1\")\n"
          ],
          "name": "stderr"
        },
        {
          "output_type": "execute_result",
          "data": {
            "text/plain": [
              "<matplotlib.axes._subplots.AxesSubplot at 0x7f9f4afe8080>"
            ]
          },
          "metadata": {
            "tags": []
          },
          "execution_count": 3
        },
        {
          "output_type": "display_data",
          "data": {
            "image/png": "[encoded data removed]",
            "text/plain": [
              "<Figure size 432x288 with 1 Axes>"
            ]
          },
          "metadata": {
            "tags": []
          }
        }
      ]
    },
    {
      "metadata": {
        "id": "QGLJ-34ySSOn",
        "colab_type": "code",
        "colab": {
          "base_uri": "https://localhost:8080/",
          "height": 282
        },
        "outputId": "33155b6c-72c8-4674-b088-3495b4ef166a"
      },
      "cell_type": "code",
      "source": [
        "sns.distplot(dataset, rug=True, hist=False)"
      ],
      "execution_count": 5,
      "outputs": [
        {
          "output_type": "execute_result",
          "data": {
            "text/plain": [
              "<matplotlib.axes._subplots.AxesSubplot at 0x7f9f48e48eb8>"
            ]
          },
          "metadata": {
            "tags": []
          },
          "execution_count": 5
        },
        {
          "output_type": "display_data",
          "data": {
            "image/png": "[encoded data removed]",
            "text/plain": [
              "<Figure size 432x288 with 1 Axes>"
            ]
          },
          "metadata": {
            "tags": []
          }
        }
      ]
    },
    {
      "metadata": {
        "id": "v8D0Ov8xSdDn",
        "colab_type": "code",
        "colab": {
          "base_uri": "https://localhost:8080/",
          "height": 352
        },
        "outputId": "a4b1542d-0d40-4b94-f134-4520ca0921a6"
      },
      "cell_type": "code",
      "source": [
        "sns.distplot(dataset, bins=25,\n",
        "             kde_kws={'color':'indianred', 'label':'KDE PLOT'},\n",
        "             hist_kws={'color':'blue', 'label':'HISTGRAM'})"
      ],
      "execution_count": 8,
      "outputs": [
        {
          "output_type": "stream",
          "text": [
            "/usr/local/lib/python3.6/dist-packages/matplotlib/axes/_axes.py:6521: MatplotlibDeprecationWarning: \n",
            "The 'normed' kwarg was deprecated in Matplotlib 2.1 and will be removed in 3.1. Use 'density' instead.\n",
            "  alternative=\"'density'\", removal=\"3.1\")\n"
          ],
          "name": "stderr"
        },
        {
          "output_type": "execute_result",
          "data": {
            "text/plain": [
              "<matplotlib.axes._subplots.AxesSubplot at 0x7f9f4af30f98>"
            ]
          },
          "metadata": {
            "tags": []
          },
          "execution_count": 8
        },
        {
          "output_type": "display_data",
          "data": {
            "image/png": "[encoded data removed]",
            "text/plain": [
              "<Figure size 432x288 with 1 Axes>"
            ]
          },
          "metadata": {
            "tags": []
          }
        }
      ]
    },
    {
      "metadata": {
        "id": "opngPEUQS8Yp",
        "colab_type": "code",
        "colab": {}
      },
      "cell_type": "code",
      "source": [
        "from pandas import Series"
      ],
      "execution_count": 0,
      "outputs": []
    },
    {
      "metadata": {
        "id": "NWH8JWkyTUnt",
        "colab_type": "code",
        "colab": {}
      },
      "cell_type": "code",
      "source": [
        "ser1 = Series(dataset, name='My_DATA')"
      ],
      "execution_count": 0,
      "outputs": []
    },
    {
      "metadata": {
        "id": "Ip7VRwFETfFc",
        "colab_type": "code",
        "colab": {
          "base_uri": "https://localhost:8080/",
          "height": 1058
        },
        "outputId": "6efebe1f-63d1-4189-ded5-07f664448a02"
      },
      "cell_type": "code",
      "source": [
        "ser1"
      ],
      "execution_count": 11,
      "outputs": [
        {
          "output_type": "execute_result",
          "data": {
            "text/plain": [
              "0     1.554022\n",
              "1     0.125762\n",
              "2     0.329396\n",
              "3    -0.436593\n",
              "4     0.469667\n",
              "5     0.237819\n",
              "6     0.190845\n",
              "7     0.759743\n",
              "8     0.553830\n",
              "9     0.259533\n",
              "10   -0.104802\n",
              "11    0.424024\n",
              "12    1.417885\n",
              "13   -1.240484\n",
              "14   -0.850782\n",
              "15   -1.249468\n",
              "16    1.220399\n",
              "17    1.283729\n",
              "18    1.894695\n",
              "19    0.906691\n",
              "20    0.247320\n",
              "21    0.182249\n",
              "22    1.336847\n",
              "23   -0.860659\n",
              "24    0.603026\n",
              "25    1.931275\n",
              "26   -0.648782\n",
              "27   -1.058621\n",
              "28    0.977646\n",
              "29    1.662416\n",
              "        ...   \n",
              "70    0.833823\n",
              "71    1.112535\n",
              "72   -0.017396\n",
              "73   -0.906015\n",
              "74   -0.160875\n",
              "75    0.831378\n",
              "76   -2.350058\n",
              "77    0.252246\n",
              "78   -0.604707\n",
              "79    0.105281\n",
              "80    0.912994\n",
              "81    1.001088\n",
              "82    0.568968\n",
              "83    0.416592\n",
              "84    0.855149\n",
              "85   -2.068499\n",
              "86    0.657432\n",
              "87   -0.376386\n",
              "88    2.938403\n",
              "89    0.002346\n",
              "90    1.475257\n",
              "91   -0.335102\n",
              "92   -1.058284\n",
              "93    0.731196\n",
              "94   -1.282791\n",
              "95   -0.909088\n",
              "96    1.214111\n",
              "97   -2.127029\n",
              "98   -0.212934\n",
              "99   -0.542610\n",
              "Name: My_DATA, Length: 100, dtype: float64"
            ]
          },
          "metadata": {
            "tags": []
          },
          "execution_count": 11
        }
      ]
    },
    {
      "metadata": {
        "id": "KpmP6XDpThM9",
        "colab_type": "code",
        "colab": {
          "base_uri": "https://localhost:8080/",
          "height": 366
        },
        "outputId": "9c1f712d-6f29-4e7f-8864-e0afa9eadf28"
      },
      "cell_type": "code",
      "source": [
        "sns.distplot(ser1)"
      ],
      "execution_count": 12,
      "outputs": [
        {
          "output_type": "stream",
          "text": [
            "/usr/local/lib/python3.6/dist-packages/matplotlib/axes/_axes.py:6521: MatplotlibDeprecationWarning: \n",
            "The 'normed' kwarg was deprecated in Matplotlib 2.1 and will be removed in 3.1. Use 'density' instead.\n",
            "  alternative=\"'density'\", removal=\"3.1\")\n"
          ],
          "name": "stderr"
        },
        {
          "output_type": "execute_result",
          "data": {
            "text/plain": [
              "<matplotlib.axes._subplots.AxesSubplot at 0x7f9f48bcb390>"
            ]
          },
          "metadata": {
            "tags": []
          },
          "execution_count": 12
        },
        {
          "output_type": "display_data",
          "data": {
            "image/png": "[encoded data removed]",
            "text/plain": [
              "<Figure size 432x288 with 1 Axes>"
            ]
          },
          "metadata": {
            "tags": []
          }
        }
      ]
    }
  ]
}